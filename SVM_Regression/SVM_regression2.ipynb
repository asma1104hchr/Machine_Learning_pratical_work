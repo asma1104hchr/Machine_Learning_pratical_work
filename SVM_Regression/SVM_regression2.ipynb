{
  "nbformat": 4,
  "nbformat_minor": 0,
  "metadata": {
    "colab": {
      "provenance": []
    },
    "kernelspec": {
      "name": "python3",
      "display_name": "Python 3"
    },
    "language_info": {
      "name": "python"
    }
  },
  "cells": [
    {
      "cell_type": "markdown",
      "source": [
        "#  svm"
      ],
      "metadata": {
        "id": "LHKYr2PdCtEo"
      }
    },
    {
      "cell_type": "code",
      "source": [
        "# Import des bibliothèques nécessaires\n",
        "from sklearn.datasets import load_iris, load_breast_cancer\n",
        "from sklearn.model_selection import train_test_split, GridSearchCV\n",
        "from sklearn.svm import SVC\n",
        "from sklearn.metrics import confusion_matrix"
      ],
      "metadata": {
        "id": "TnNfVyIM_qL3"
      },
      "execution_count": 1,
      "outputs": []
    },
    {
      "cell_type": "markdown",
      "source": [
        "## Partie 1 :"
      ],
      "metadata": {
        "id": "PdGsh1F6_uHw"
      }
    },
    {
      "cell_type": "markdown",
      "source": [
        " 1. Charger les données Iris"
      ],
      "metadata": {
        "id": "NJhhtBdP_1-2"
      }
    },
    {
      "cell_type": "code",
      "source": [
        "iris = load_iris()\n",
        "X = iris.data\n",
        "y = iris.target"
      ],
      "metadata": {
        "id": "Scggzapl_tbR"
      },
      "execution_count": 2,
      "outputs": []
    },
    {
      "cell_type": "markdown",
      "source": [
        " 2. Afficher les différents attributs\n"
      ],
      "metadata": {
        "id": "IYzIJJ3Y__9S"
      }
    },
    {
      "cell_type": "code",
      "source": [
        "print(\"Attributs:\", iris.feature_names)"
      ],
      "metadata": {
        "colab": {
          "base_uri": "https://localhost:8080/"
        },
        "id": "IiT2rHBIAETp",
        "outputId": "fd6ecd9a-7a28-407b-f31c-f2f51cef1f10"
      },
      "execution_count": null,
      "outputs": [
        {
          "output_type": "stream",
          "name": "stdout",
          "text": [
            "Attributs: ['sepal length (cm)', 'sepal width (cm)', 'petal length (cm)', 'petal width (cm)']\n"
          ]
        }
      ]
    },
    {
      "cell_type": "markdown",
      "source": [
        " 3. Diviser les données comme suit : 70% jeu d’entrainement et 30% jeu de test"
      ],
      "metadata": {
        "id": "vZoLlvnYAdWC"
      }
    },
    {
      "cell_type": "code",
      "source": [
        "X_train, X_test, y_train, y_test = train_test_split(X, y, test_size=0.3, random_state=42)"
      ],
      "metadata": {
        "id": "m3t01ozMAZHS"
      },
      "execution_count": null,
      "outputs": []
    },
    {
      "cell_type": "markdown",
      "source": [
        "4. Entrainer le modèle en utilisant une SVM linéaire avec c=0,05 et gamma=’auto’"
      ],
      "metadata": {
        "id": "qp_-KNCjAgc_"
      }
    },
    {
      "cell_type": "code",
      "source": [
        "svm_linear = SVC(kernel='linear', C=0.05, gamma='auto')\n",
        "svm_linear.fit(X_train, y_train)"
      ],
      "metadata": {
        "id": "XUz5L8FNAsFO"
      },
      "execution_count": null,
      "outputs": []
    },
    {
      "cell_type": "markdown",
      "source": [
        " 5. Prédire le jeu de données test"
      ],
      "metadata": {
        "id": "VCYZmvj5A0fH"
      }
    },
    {
      "cell_type": "code",
      "source": [
        "y_pred = svm_linear.predict(X_test)"
      ],
      "metadata": {
        "id": "UrQqceDrA-a9"
      },
      "execution_count": null,
      "outputs": []
    },
    {
      "cell_type": "markdown",
      "source": [
        " 6. Afficher la matrice de confusion"
      ],
      "metadata": {
        "id": "p0f5N_bsBHyH"
      }
    },
    {
      "cell_type": "code",
      "source": [
        "conf_matrix = confusion_matrix(y_test, y_pred)\n",
        "print(\"Matrice de confusion :\\n\", conf_matrix)"
      ],
      "metadata": {
        "id": "ea1bSLKGBEvN"
      },
      "execution_count": null,
      "outputs": []
    },
    {
      "cell_type": "markdown",
      "source": [
        " 7. En utilisant méthode gridsearch de Scikit-learn, trouver les valeurs de C et gamma qui donnent les meilleures performances\n"
      ],
      "metadata": {
        "id": "FKQYTBsVBMzb"
      }
    },
    {
      "cell_type": "code",
      "source": [
        "param_grid = {'C': [0.001, 0.01, 0.1, 1, 10], 'gamma': ['scale', 'auto']}\n",
        "grid_search = GridSearchCV(SVC(), param_grid, cv=5)\n",
        "grid_search.fit(X_train, y_train)\n",
        "print(\"Meilleurs paramètres :\", grid_search.best_params_)"
      ],
      "metadata": {
        "id": "XQlTZDI_BQFn"
      },
      "execution_count": null,
      "outputs": []
    },
    {
      "cell_type": "markdown",
      "source": [
        "## Partie 2 :"
      ],
      "metadata": {
        "id": "_QJkbh1-BevM"
      }
    },
    {
      "cell_type": "markdown",
      "source": [
        " 1. Classifier=SVC(c=0.006, kernel=’rbf’,gamma=’scale’)"
      ],
      "metadata": {
        "id": "obYS7GFbBbmq"
      }
    },
    {
      "cell_type": "code",
      "source": [
        "svm_rbf = SVC(C=0.006, kernel='rbf', gamma='scale')\n",
        "svm_rbf.fit(X_train, y_train)"
      ],
      "metadata": {
        "id": "b6AzvVofBUhY"
      },
      "execution_count": null,
      "outputs": []
    },
    {
      "cell_type": "markdown",
      "source": [
        " 2. Classifier=SVC(c=1, kernel=’poly’,gamma=’auto’,degree=7)\n"
      ],
      "metadata": {
        "id": "tBs0XBYvBkG5"
      }
    },
    {
      "cell_type": "code",
      "source": [
        "svm_poly = SVC(C=1, kernel='poly', gamma='auto', degree=7)\n",
        "svm_poly.fit(X_train, y_train)"
      ],
      "metadata": {
        "id": "DDplIivkBkbg"
      },
      "execution_count": null,
      "outputs": []
    },
    {
      "cell_type": "markdown",
      "source": [
        "## Partie 3 :"
      ],
      "metadata": {
        "id": "GizU6gUrBxmk"
      }
    },
    {
      "cell_type": "markdown",
      "source": [
        "1. Charger les données breast_cancer\n"
      ],
      "metadata": {
        "id": "QtW0JdbUB5pn"
      }
    },
    {
      "cell_type": "code",
      "source": [
        "cancer = load_breast_cancer()\n",
        "X_cancer = cancer.data\n",
        "y_cancer = cancer.target"
      ],
      "metadata": {
        "id": "-OR7kTN2BwtV"
      },
      "execution_count": null,
      "outputs": []
    },
    {
      "cell_type": "markdown",
      "source": [
        "2. Diviser les données comme suit : 70% jeu d’entrainement et 30% jeu de test"
      ],
      "metadata": {
        "id": "jt9hjIxpB8kZ"
      }
    },
    {
      "cell_type": "code",
      "source": [
        "X_train_cancer, X_test_cancer, y_train_cancer, y_test_cancer = train_test_split(X_cancer, y_cancer, test_size=0.3, random_state=42)"
      ],
      "metadata": {
        "id": "k7v1llz3B8wj"
      },
      "execution_count": null,
      "outputs": []
    },
    {
      "cell_type": "markdown",
      "source": [
        "3. Entraîner une SVM sur les données breast_cancer\n"
      ],
      "metadata": {
        "id": "Egl9yNb2CIe_"
      }
    },
    {
      "cell_type": "code",
      "source": [
        "svm_cancer = SVC()\n",
        "svm_cancer.fit(X_train_cancer, y_train_cancer)"
      ],
      "metadata": {
        "id": "HbC4TCyGCIoY"
      },
      "execution_count": null,
      "outputs": []
    },
    {
      "cell_type": "markdown",
      "source": [
        "4. Prédire sur le jeu de test\n"
      ],
      "metadata": {
        "id": "LC7ctEIjCQef"
      }
    },
    {
      "cell_type": "code",
      "source": [
        "y_pred_cancer = svm_cancer.predict(X_test_cancer)"
      ],
      "metadata": {
        "id": "o7ZATmvDCQwV"
      },
      "execution_count": null,
      "outputs": []
    },
    {
      "cell_type": "markdown",
      "source": [
        "5. Afficher la matrice de confusion\n"
      ],
      "metadata": {
        "id": "Ucc0PRxJCZQj"
      }
    },
    {
      "cell_type": "code",
      "source": [
        "conf_matrix_cancer = confusion_matrix(y_test_cancer, y_pred_cancer)\n",
        "print(\"Matrice de confusion pour le jeu de données breast_cancer :\\n\", conf_matrix_cancer)"
      ],
      "metadata": {
        "id": "cr4x6S_mCZar"
      },
      "execution_count": null,
      "outputs": []
    },
    {
      "cell_type": "markdown",
      "source": [
        "# regression"
      ],
      "metadata": {
        "id": "VO5-0Sg9C5nI"
      }
    },
    {
      "cell_type": "code",
      "source": [
        "import numpy as np\n",
        "\n",
        "class RegressionLineaire:\n",
        "    def __init__(self, learning_rate=0.01, iterations=1000):\n",
        "        self.learning_rate = learning_rate\n",
        "        self.iterations = iterations\n",
        "        self.theta = None\n",
        "\n",
        "    def fit(self, X, y):\n",
        "        # Initialisation des paramètres theta avec des valeurs aléatoires\n",
        "        self.theta = np.random.randn(X.shape[1], 1)  # Modifiez ici pour assurer que theta a la forme correcte\n",
        "\n",
        "        m = len(y)\n",
        "\n",
        "        for _ in range(self.iterations):\n",
        "            # Calcul de la prédiction\n",
        "            predictions = np.dot(X, self.theta)\n",
        "\n",
        "            # Calcul de l'erreur\n",
        "            error = predictions - y\n",
        "\n",
        "            # Mise à jour des paramètres theta en utilisant le gradient\n",
        "            gradient = (1/m) * np.dot(X.T, error)\n",
        "            self.theta -= self.learning_rate * gradient\n",
        "\n",
        "\n",
        "    def predict(self, X):\n",
        "        return np.dot(X, self.theta)\n",
        "\n",
        "# Exemple d'utilisation :\n",
        "if __name__ == \"__main__\":\n",
        "    # Génération de données d'exemple\n",
        "    np.random.seed(0)\n",
        "    X = 2 * np.random.rand(100, 1)\n",
        "    y = 4 + 3 * X + np.random.randn(100, 1)\n",
        "\n",
        "    # Ajout de la colonne de biais à X\n",
        "    X_biais = np.c_[np.ones((100, 1)), X]\n",
        "\n",
        "    # Initialisation du modèle\n",
        "    model = RegressionLineaire()\n",
        "\n",
        "    # Entrainement du modèle\n",
        "    model.fit(X_biais, y)\n",
        "\n",
        "    # Affichage des paramètres theta\n",
        "    print(\"Paramètres theta:\", model.theta)\n",
        "\n",
        "    # Prédiction de nouvelles données\n",
        "    X_nouveau = np.array([[0], [2]])\n",
        "    X_nouveau_biais = np.c_[np.ones((2, 1)), X_nouveau]\n",
        "    predictions = model.predict(X_nouveau_biais)\n",
        "    print(\"Prédictions pour de nouvelles données:\", predictions)\n"
      ],
      "metadata": {
        "id": "jVm3LG5sC8xZ"
      },
      "execution_count": null,
      "outputs": []
    }
  ]
}