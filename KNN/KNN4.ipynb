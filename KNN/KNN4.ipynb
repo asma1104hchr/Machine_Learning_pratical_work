{
  "nbformat": 4,
  "nbformat_minor": 0,
  "metadata": {
    "colab": {
      "provenance": []
    },
    "kernelspec": {
      "name": "python3",
      "display_name": "Python 3"
    },
    "language_info": {
      "name": "python"
    }
  },
  "cells": [
    {
      "cell_type": "markdown",
      "source": [
        "#EXO1"
      ],
      "metadata": {
        "id": "9E-lLzdrHhgM"
      }
    },
    {
      "cell_type": "markdown",
      "source": [
        "**First, let's start by visualizing the data using a scatter plot:**"
      ],
      "metadata": {
        "id": "HQAut6tLXl8U"
      }
    },
    {
      "cell_type": "code",
      "execution_count": 1,
      "metadata": {
        "colab": {
          "base_uri": "https://localhost:8080/",
          "height": 564
        },
        "id": "2rtFlMS8W_KQ",
        "outputId": "10e00049-fcba-4031-83e8-a9ca13ebca77"
      },
      "outputs": [
        {
          "output_type": "display_data",
          "data": {
            "text/plain": [
              "<Figure size 800x600 with 1 Axes>"
            ],
            "image/png": "[encoded data removed]"
          },
          "metadata": {}
        }
      ],
      "source": [
        "import matplotlib.pyplot as plt\n",
        "\n",
        "# Data\n",
        "feature1 = [4, 1, 9, 7, 10, 12, 14, 8]\n",
        "feature2 = [1, 2, 14, 5, 16, 18, 10, 10]\n",
        "\n",
        "# Scatter plot\n",
        "plt.figure(figsize=(8, 6))\n",
        "plt.scatter(feature1, feature2, color='blue')\n",
        "plt.title('Scatter Plot of Feature 1 vs Feature 2')\n",
        "plt.xlabel('Feature 1')\n",
        "plt.ylabel('Feature 2')\n",
        "plt.grid(True)\n",
        "plt.show()\n"
      ]
    },
    {
      "cell_type": "markdown",
      "source": [
        "**Now, let's compute the k-nearest neighbors (k=4) of the point (11, 3) using Python from scratch:**\n"
      ],
      "metadata": {
        "id": "lAc1Ai-GXpgV"
      }
    },
    {
      "cell_type": "code",
      "source": [
        "import numpy as np\n",
        "\n",
        "# Test point\n",
        "test_point = np.array([11, 3])\n",
        "\n",
        "# Train data\n",
        "train_data = np.array([[4, 1],\n",
        "                       [1, 2],\n",
        "                       [9, 14],\n",
        "                       [7, 5],\n",
        "                       [10, 16],\n",
        "                       [12, 18],\n",
        "                       [14, 10],\n",
        "                       [8, 10]])\n",
        "\n",
        "# Function to calculate Euclidean distance\n",
        "def euclidean_distance(point1, point2):\n",
        "    return np.sqrt(np.sum((point1 - point2)**2))\n",
        "\n",
        "# Function to compute k nearest neighbors\n",
        "def k_nearest_neighbors(train_data, test_point, k):\n",
        "    distances = []\n",
        "    for i in range(len(train_data)):\n",
        "        distance = euclidean_distance(train_data[i], test_point)\n",
        "        distances.append((distance, i))\n",
        "    distances.sort()  # Sorting distances\n",
        "    neighbors = []\n",
        "    for i in range(k):\n",
        "        neighbors.append(distances[i][1])  # Adding the index of the neighbor\n",
        "    return neighbors\n",
        "\n",
        "# Computing k nearest neighbors for the test point\n",
        "k = 4\n",
        "nearest_neighbors = k_nearest_neighbors(train_data, test_point, k)\n",
        "print(\"Indices of k nearest neighbors:\", nearest_neighbors)\n",
        "print(\"Coordinates of k nearest neighbors:\")\n",
        "for index in nearest_neighbors:\n",
        "    print(train_data[index])\n"
      ],
      "metadata": {
        "colab": {
          "base_uri": "https://localhost:8080/"
        },
        "id": "V-rVE8C3Xhwx",
        "outputId": "76d548ca-af89-4cf6-a84f-70e5fe01ee94"
      },
      "execution_count": 2,
      "outputs": [
        {
          "output_type": "stream",
          "name": "stdout",
          "text": [
            "Indices of k nearest neighbors: [3, 0, 6, 7]\n",
            "Coordinates of k nearest neighbors:\n",
            "[7 5]\n",
            "[4 1]\n",
            "[14 10]\n",
            "[ 8 10]\n"
          ]
        }
      ]
    },
    {
      "cell_type": "markdown",
      "source": [
        "**Finally, let's calculate the k-nearest neighbors using sklearn.neighbors module:**"
      ],
      "metadata": {
        "id": "IGdG_12NXzKp"
      }
    },
    {
      "cell_type": "code",
      "source": [
        "from sklearn.neighbors import NearestNeighbors\n",
        "\n",
        "# Creating NearestNeighbors object\n",
        "knn = NearestNeighbors(n_neighbors=k, algorithm='auto')\n",
        "knn.fit(train_data)\n",
        "\n",
        "# Finding k-nearest neighbors for the test point\n",
        "distances, indices = knn.kneighbors([test_point])\n",
        "print(\"Indices of k nearest neighbors using sklearn:\", indices[0])\n",
        "print(\"Coordinates of k nearest neighbors using sklearn:\")\n",
        "for index in indices[0]:\n",
        "    print(train_data[index])\n"
      ],
      "metadata": {
        "colab": {
          "base_uri": "https://localhost:8080/"
        },
        "id": "AEKSO5PdXxnq",
        "outputId": "e6ba1e8f-0f0f-482e-972d-6d68d187fb7d"
      },
      "execution_count": 3,
      "outputs": [
        {
          "output_type": "stream",
          "name": "stdout",
          "text": [
            "Indices of k nearest neighbors using sklearn: [3 0 7 6]\n",
            "Coordinates of k nearest neighbors using sklearn:\n",
            "[7 5]\n",
            "[4 1]\n",
            "[ 8 10]\n",
            "[14 10]\n"
          ]
        }
      ]
    },
    {
      "cell_type": "markdown",
      "source": [
        "# EXO2"
      ],
      "metadata": {
        "id": "r8KL43ygX-uB"
      }
    },
    {
      "cell_type": "markdown",
      "source": [
        "**This code will create and train a KNN model using the Iris dataset, and then predict the classes of the given observations based on the classes of their neighbors. Adjust the value of k as per your preference.**"
      ],
      "metadata": {
        "id": "xUBzCpK8YDWy"
      }
    },
    {
      "cell_type": "code",
      "source": [
        "from sklearn.datasets import load_iris\n",
        "from sklearn.neighbors import KNeighborsClassifier\n",
        "\n",
        "# Load Iris dataset\n",
        "iris = load_iris()\n",
        "X = iris.data  # Features\n",
        "y = iris.target  # Target variable\n",
        "\n",
        "# Create and train KNN model\n",
        "k = 3  # You can choose any suitable value for k\n",
        "knn_model = KNeighborsClassifier(n_neighbors=k)\n",
        "knn_model.fit(X, y)\n",
        "\n",
        "# Given observations\n",
        "observations = [[5.4, 3.3, 5.9, 1.1], [1, 1, 1, 1]]\n",
        "\n",
        "# Predict classes based on neighbors\n",
        "for observation in observations:\n",
        "    predicted_class = knn_model.predict([observation])\n",
        "    print(\"Observation:\", observation)\n",
        "    print(\"Predicted class:\", iris.target_names[predicted_class[0]])\n"
      ],
      "metadata": {
        "colab": {
          "base_uri": "https://localhost:8080/"
        },
        "id": "hydXkD0SYKwV",
        "outputId": "a4c0d86c-7516-4d49-c124-659fd6d8e9ba"
      },
      "execution_count": 4,
      "outputs": [
        {
          "output_type": "stream",
          "name": "stdout",
          "text": [
            "Observation: [5.4, 3.3, 5.9, 1.1]\n",
            "Predicted class: virginica\n",
            "Observation: [1, 1, 1, 1]\n",
            "Predicted class: setosa\n"
          ]
        }
      ]
    }
  ]
}